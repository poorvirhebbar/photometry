{
 "cells": [
  {
   "cell_type": "code",
   "execution_count": 1,
   "metadata": {},
   "outputs": [],
   "source": [
    "import numpy as np\n",
    "import numpy.ma as ma\n",
    "import os\n",
    "import astropy.units as u\n",
    "from astropy.io import ascii\n",
    "from astropy.coordinates import SkyCoord\n",
    "from astropy.wcs import WCS\n",
    "from astropy.stats import sigma_clipped_stats, sigma_clip\n",
    "import subprocess\n",
    "from astropy.io import fits\n",
    "import matplotlib.pyplot as plt\n",
    "%matplotlib inline\n",
    "import os"
   ]
  },
  {
   "cell_type": "code",
   "execution_count": 2,
   "metadata": {},
   "outputs": [],
   "source": [
    "# cd /home/poorvi/Desktop/ph556_astro/project"
   ]
  },
  {
   "cell_type": "code",
   "execution_count": 3,
   "metadata": {},
   "outputs": [
    {
     "name": "stdout",
     "output_type": "stream",
     "text": [
      " \u001b[0m\u001b[01;34mdata\u001b[0m/\r\n",
      " info.csv\r\n",
      "'Literature review for UZcom.xlsx'\r\n",
      " Periodogram_draft.ipynb\r\n",
      "'PH556 - UZcom - Manual Magnitude Calculation.csv'\r\n",
      " Phase_coverage_final.ipynb\r\n",
      " photometry.ipynb\r\n",
      " photometry_neilabh_image.ipynb\r\n",
      " photometry_of_all_images.ipynb\r\n",
      " photometry_Vignette_image.ipynb\r\n",
      "'P-L relationship in rr-lyraes.docx'\r\n",
      "\u001b[01;35m'Screenshot from 2021-04-16 20-40-20.png'\u001b[0m\r\n"
     ]
    }
   ],
   "source": [
    "ls"
   ]
  },
  {
   "cell_type": "code",
   "execution_count": 4,
   "metadata": {},
   "outputs": [
    {
     "name": "stdout",
     "output_type": "stream",
     "text": [
      "['data/20210319', 'data/20210322', 'data/20210326', 'data/20210410', 'data/20210411']\n"
     ]
    }
   ],
   "source": [
    "data_dir='data'\n",
    "date_folders = [\n",
    "    f.path for f in os.scandir(data_dir) if not f.is_file()]\n",
    "date_folders.sort()\n",
    "print(date_folders)"
   ]
  },
  {
   "cell_type": "code",
   "execution_count": 5,
   "metadata": {},
   "outputs": [
    {
     "name": "stdout",
     "output_type": "stream",
     "text": [
      "    img_index  date_index                    time     phase\n",
      "0           0         0.0 2021-03-19 16:19:54.110  0.000000\n",
      "1           1         0.0 2021-03-19 16:22:22.110  0.002324\n",
      "2           2         0.0 2021-03-19 17:25:11.110  0.061519\n",
      "3           3         0.0 2021-03-19 17:27:03.110  0.063278\n",
      "4           4         1.0 2021-03-22 16:20:02.120  0.071008\n",
      "5           5         1.0 2021-03-22 16:21:42.120  0.072579\n",
      "6           6         1.0 2021-03-22 17:20:05.120  0.127595\n",
      "7           7         1.0 2021-03-22 18:20:04.120  0.184119\n",
      "8           8         1.0 2021-03-22 18:21:46.120  0.185721\n",
      "9           9         1.0 2021-03-22 19:20:02.120  0.240628\n",
      "10         10         1.0 2021-03-22 19:21:42.120  0.242199\n",
      "11         11         1.0 2021-03-22 20:20:06.120  0.297231\n",
      "12         12         1.0 2021-03-22 20:22:28.120  0.299461\n",
      "13         13         1.0 2021-03-22 21:22:27.120  0.355985\n",
      "14         14         1.0 2021-03-22 21:24:07.120  0.357556\n",
      "15         15         2.0 2021-03-26 16:30:26.120  0.508651\n",
      "16         16         2.0 2021-03-26 16:32:05.120  0.510206\n",
      "17         17         2.0 2021-03-26 17:30:14.120  0.565003\n",
      "18         18         2.0 2021-03-26 17:31:57.120  0.566620\n",
      "19         19         2.0 2021-03-26 18:30:03.120  0.621370\n",
      "20         20         2.0 2021-03-26 18:31:45.120  0.622972\n",
      "21         21         2.0 2021-03-26 19:30:03.120  0.677910\n",
      "22         22         2.0 2021-03-26 20:30:00.120  0.734403\n",
      "23         23         2.0 2021-03-26 20:32:17.120  0.736555\n",
      "24         24         2.0 2021-03-26 20:34:00.120  0.738172\n",
      "25         25         2.0 2021-03-26 22:30:00.120  0.847483\n",
      "26         26         2.0 2021-03-26 22:31:42.120  0.849085\n",
      "27         27         3.0 2021-04-10 18:29:47.871  0.975542\n",
      "28         28         3.0 2021-04-10 18:31:26.962  0.977098\n",
      "29         29         3.0 2021-04-10 19:29:48.643  0.032094\n",
      "30         30         3.0 2021-04-10 19:31:27.709  0.033650\n",
      "31         31         4.0 2021-04-11 15:59:33.003  0.190919\n",
      "32         32         4.0 2021-04-11 16:01:12.083  0.192475\n",
      "33         33         4.0 2021-04-11 17:05:14.154  0.252817\n",
      "34         34         4.0 2021-04-11 17:06:53.233  0.254373\n"
     ]
    }
   ],
   "source": [
    "import pandas as pd\n",
    "from math import modf\n",
    "\n",
    "images=[]\n",
    "img_ind=[]\n",
    "date_ind=[]\n",
    "\n",
    "for i in range(len(date_folders)):\n",
    "    date=date_folders[i]\n",
    "    new_images = [f.path for f in os.scandir(date) if f.is_file() and f.path.endswith(('.fits'))]\n",
    "    l=len(new_images)\n",
    "    date_ind=np.append(date_ind, np.repeat(i,l))\n",
    "    images.append(new_images)\n",
    "    \n",
    "\n",
    "all_images = [item for sublist in images for item in sublist]\n",
    "\n",
    "\n",
    "df=pd.DataFrame({'img_index': np.arange(len(all_images)), 'date_index': date_ind})\n",
    "\n",
    "\n",
    "from dateutil import parser\n",
    "P=0.736941*24*60*60\n",
    "times=[]\n",
    "for img in all_images:\n",
    "    f = fits.open(img)\n",
    "    data = f[0].data \n",
    "    header = f[0].header\n",
    "    date=header['DATE-OBS'][:10]\n",
    "    time=header['DATE-OBS'][11:]\n",
    "    date_time_str=date + ' '+ time\n",
    "    t= parser.parse(date_time_str)\n",
    "    times.append(t)\n",
    "\n",
    "times.sort()\n",
    "phase=[modf(((ti-times[0]).total_seconds())/P)[0] for ti in times ]\n",
    "\n",
    "df['time']=times\n",
    "df['phase']=phase\n",
    "print(df)"
   ]
  },
  {
   "cell_type": "code",
   "execution_count": 45,
   "metadata": {
    "scrolled": true
   },
   "outputs": [
    {
     "data": {
      "text/plain": [
       "<Figure size 1800x1200 with 0 Axes>"
      ]
     },
     "metadata": {},
     "output_type": "display_data"
    },
    {
     "data": {
      "image/png": "[encoded data removed]",
      "text/plain": [
       "<Figure size 432x216 with 1 Axes>"
      ]
     },
     "metadata": {},
     "output_type": "display_data"
    }
   ],
   "source": [
    "from  matplotlib import pyplot as plt\n",
    "import seaborn\n",
    "seaborn.set(style='ticks')\n",
    "\n",
    "np.random.seed(0)\n",
    "\n",
    "dates_pos=[0,1,2,3,4]\n",
    "plt.figure(dpi = 300)\n",
    "plt.tight_layout()\n",
    "fg = seaborn.FacetGrid(data=df, hue='date_index', hue_order=dates_pos, aspect=2)\n",
    "fg.map(plt.scatter, 'img_index', 'phase')\n",
    "plt.title(\"Phase vs Image Index\")\n",
    "# plt.ylabel(\"Phase\")\n",
    "# plt.xlabel(\"Image Index\")\n",
    "L=plt.legend(title = \"Date Index\", loc = 2)\n",
    "L.get_texts()[0].set_text(\"2021-03-19\")\n",
    "L.get_texts()[1].set_text(\"2021-03-22\")\n",
    "L.get_texts()[2].set_text(\"2021-03-26\")\n",
    "L.get_texts()[3].set_text(\"2021-04-10\")\n",
    "L.get_texts()[4].set_text(\"2021-04-11\")\n",
    "# [\"2021-03-19\", \"2021-03-22\", \"2021-03-26\", \"2021-04-10\", \"2021-04-11\"]\n",
    "fg.set_axis_labels(\"Image Index\", \"Phase\")\n",
    "plt.savefig('Phase vs Image Index.png', dpi=300, bbox_inches='tight')\n",
    "plt.show()"
   ]
  },
  {
   "cell_type": "code",
   "execution_count": 38,
   "metadata": {},
   "outputs": [
    {
     "data": {
      "text/plain": [
       "<Figure size 432x288 with 0 Axes>"
      ]
     },
     "metadata": {},
     "output_type": "display_data"
    }
   ],
   "source": []
  },
  {
   "cell_type": "code",
   "execution_count": 57,
   "metadata": {},
   "outputs": [
    {
     "data": {
      "text/plain": [
       "<Figure size 1920x1440 with 0 Axes>"
      ]
     },
     "metadata": {},
     "output_type": "display_data"
    },
    {
     "data": {
      "image/png": "[encoded data removed]",
      "text/plain": [
       "<Figure size 1080x216 with 1 Axes>"
      ]
     },
     "metadata": {},
     "output_type": "display_data"
    }
   ],
   "source": [
    "# phase ascending order\n",
    "# phase vs time\n",
    "seaborn.set(style='ticks')\n",
    "\n",
    "np.random.seed(1)\n",
    "# seaborn.set(rc={'figure.figsize':(6.4, 4.8)})\n",
    "dates_pos=[0,1,2,3,4]\n",
    "plt.figure(dpi = 300, figsize = [6.4, 4.8])\n",
    "fg = seaborn.FacetGrid(data=df, hue='date_index', hue_order=dates_pos, aspect=5)\n",
    "fg.map(pyplot.scatter, 'time', 'phase')\n",
    "plt.title(\"Phase vs Date-Time\")\n",
    "# plt.ylabel(\"Phase\")\n",
    "# plt.xlabel(\"Image Index\")\n",
    "L=plt.legend(title = \"Date Index\", loc = 2)\n",
    "L.get_texts()[0].set_text(\"2021-03-19\")\n",
    "L.get_texts()[1].set_text(\"2021-03-22\")\n",
    "L.get_texts()[2].set_text(\"2021-03-26\")\n",
    "L.get_texts()[3].set_text(\"2021-04-10\")\n",
    "L.get_texts()[4].set_text(\"2021-04-11\")\n",
    "# [\"2021-03-19\", \"2021-03-22\", \"2021-03-26\", \"2021-04-10\", \"2021-04-11\"]\n",
    "fg.set_axis_labels(\"Date-Time\", \"Phase\")\n",
    "plt.savefig('Phase vs Date Time.png', dpi=300, bbox_inches='tight')\n",
    "plt.show()"
   ]
  },
  {
   "cell_type": "code",
   "execution_count": 10,
   "metadata": {},
   "outputs": [
    {
     "data": {
      "text/plain": [
       "[<matplotlib.lines.Line2D at 0x7f0341a182b0>]"
      ]
     },
     "execution_count": 10,
     "metadata": {},
     "output_type": "execute_result"
    },
    {
     "data": {
      "image/png": "[encoded data removed]",
      "text/plain": [
       "<Figure size 432x288 with 1 Axes>"
      ]
     },
     "metadata": {},
     "output_type": "display_data"
    }
   ],
   "source": [
    "df1=df.sort_values('phase')\n",
    "ar=np.array(df1['phase'])\n",
    "# plt.plot(arr)\n",
    "# plt.show()\n",
    "\n",
    "# plt.plot(ar, np.zeros_like(ar) + val, 'x')\n",
    "# plt.show()\n",
    "\n",
    "plt.plot(ar, len(ar) * [1], \"x\")"
   ]
  },
  {
   "cell_type": "code",
   "execution_count": null,
   "metadata": {},
   "outputs": [],
   "source": [
    "\n"
   ]
  }
 ],
 "metadata": {
  "kernelspec": {
   "display_name": "Python 3",
   "language": "python",
   "name": "python3"
  },
  "language_info": {
   "codemirror_mode": {
    "name": "ipython",
    "version": 3
   },
   "file_extension": ".py",
   "mimetype": "text/x-python",
   "name": "python",
   "nbconvert_exporter": "python",
   "pygments_lexer": "ipython3",
   "version": "3.8.8"
  }
 },
 "nbformat": 4,
 "nbformat_minor": 4
}
